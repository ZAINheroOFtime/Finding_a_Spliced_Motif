{
 "cells": [
  {
   "cell_type": "code",
   "execution_count": 60,
   "metadata": {},
   "outputs": [],
   "source": [
    "from Bio import SeqIO"
   ]
  },
  {
   "cell_type": "code",
   "execution_count": 61,
   "metadata": {},
   "outputs": [
    {
     "data": {
      "text/plain": [
       "['TGCCCAGAATTGCCCCTGCCGGACACATACTGGATGCCTGTACATGGCCCGAACTCATTAGATTTTAGACATTAAGCTTTACTATTGTCACATATCTAAGGAGTTAATTCGACGTGGCCAACTCATGAGGCGGGATTTAGACTACGTCGAGTATAACGATAATCTGCTCGATCGGTCAAGTCTCCTTATGATCGTTTGGGGGGTAACAGAGCAATTGACTTTGCGCCTTTCTGCAGCTTCGTTTTGTAATGCCAGAGGCCCCATGTGTCCGTCGCCTCAAATCAATCACATGCGGCGACCCTTCGGCACACTTCAAAGTCGTCATGACAATAGAGCGTCATGATTAATTGAGGGGCCCATCAAAAGGCTTCCTTGGATGTGAACCACCGGGCTAGAGTGTTATACTTAGGCCCATCGACGGATGAACCAATATCCTGAAATGCGTGTGCATGGGGATCAGTGTTTTCTTCGCAAGCTCCGCCTGATCAGAATTGACCGCGGCTTACGCTGAAAAGCTCACAATGTGTCCTCGTGGACCACTTCTTCAGATTGGAGGAGAGCCCAGACCTTTTGGGGGTGCCTTCCGGGACCTCTGATACATCGGCGCGTGCAGTAGTACTGTTAGCTTTGACGCTAGATTGCCTTCATTGCTTCTCGCGTATGCAATCAGTTTGACGCGAGCACCCTTTTCAAACGTTGATCCACTCGCCGACGACAACCAGAGAGGTAAATAGTCACCCCTTTTCACATCGGACTTTGCGGGACTTGGGTCCGTGTACTAGATCTCGCCTAGCCAGTAGTCGTCTGGGCCAGTACATACA',\n",
       " 'CTGGTTACAACCATATTGTCCGCAATGAGCAAGCTTGCCTACCCTTGAGTTGACCTTGTCCAAA']"
      ]
     },
     "execution_count": 61,
     "metadata": {},
     "output_type": "execute_result"
    }
   ],
   "source": [
    "sequences = []\n",
    "for seq in (SeqIO.parse('spliced.fasta','fasta')):\n",
    "    sequences.append(str(seq.seq))\n",
    "sequences"
   ]
  },
  {
   "cell_type": "code",
   "execution_count": 62,
   "metadata": {},
   "outputs": [
    {
     "name": "stdout",
     "output_type": "stream",
     "text": [
      " 3 10 12 18 28 31 34 37 42 44 48 49 52 55 57 58 59 61 63 70 77 87 89 90 92 93 100 102 103 110 112 120 127 131 136 137 140 142 145 147 150 157 164 167 168 172 174 178 180 181 183 190 191 193 207 215 216 217 220 224 226 235 248 249\n"
     ]
    }
   ],
   "source": [
    "result = ''\n",
    "idx = -1\n",
    "prev_cont = 0\n",
    "found = 0\n",
    "for codon in sequences[1]:\n",
    "    idx += 1\n",
    "    cont = str(sequences[0][found:])\n",
    "    if cont.find(codon) > 0:\n",
    "        found += cont.find(codon)\n",
    "    else:\n",
    "        cont = str(sequences[0][found+1:])\n",
    "        found += cont.find(codon)+1\n",
    "    result = str(result + ' ' +str(found+1))\n",
    "print(result)"
   ]
  }
 ],
 "metadata": {
  "interpreter": {
   "hash": "ca84a58b072d25fcb7a3fc71b36237c532d1768f3d3e7d7980f49d926c1ceec8"
  },
  "kernelspec": {
   "display_name": "Python 3.10.2 ('minimal_ds')",
   "language": "python",
   "name": "python3"
  },
  "language_info": {
   "codemirror_mode": {
    "name": "ipython",
    "version": 3
   },
   "file_extension": ".py",
   "mimetype": "text/x-python",
   "name": "python",
   "nbconvert_exporter": "python",
   "pygments_lexer": "ipython3",
   "version": "3.10.2"
  },
  "orig_nbformat": 4
 },
 "nbformat": 4,
 "nbformat_minor": 2
}
